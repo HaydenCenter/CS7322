{
 "cells": [
  {
   "cell_type": "code",
   "execution_count": null,
   "id": "9e749bac",
   "metadata": {},
   "outputs": [],
   "source": [
    "import requests\n",
    "\n",
    "from math import log\n",
    "from statistics import mean\n",
    "\n",
    "# import numpy as np\n",
    "import pandas as pd\n",
    "\n",
    "import nltk\n",
    "nltk.download('wordnet')\n",
    "nltk.download('omw-1.4')\n",
    "nltk.download('averaged_perceptron_tagger')\n",
    "\n",
    "import gensim"
   ]
  },
  {
   "cell_type": "markdown",
   "id": "5742f0b6",
   "metadata": {},
   "source": [
    "### Import and Preprocess Data\n",
    "\n",
    "Kaggle Dataset:\n",
    "https://www.kaggle.com/datasets/abisheksudarshan/topic-modeling-for-research-articles?resource=download"
   ]
  },
  {
   "cell_type": "code",
   "execution_count": null,
   "id": "3170a7e2",
   "metadata": {},
   "outputs": [],
   "source": [
    "df = pd.read_csv(\"dataset/Test.csv\")"
   ]
  },
  {
   "cell_type": "code",
   "execution_count": null,
   "id": "0043615e",
   "metadata": {},
   "outputs": [],
   "source": [
    "nltk_sw = nltk.corpus.stopwords.words('english')\n",
    "\n",
    "def get_wordnet_tag(tag):\n",
    "    tag_map = {\n",
    "        \"J\": nltk.corpus.wordnet.ADJ,\n",
    "        \"N\": nltk.corpus.wordnet.NOUN,\n",
    "        \"V\": nltk.corpus.wordnet.VERB,\n",
    "        \"R\": nltk.corpus.wordnet.ADV\n",
    "    }\n",
    "    return tag_map.get(tag[0].upper(), nltk.corpus.wordnet.NOUN)\n",
    "\n",
    "def get_tokens(text):\n",
    "    tokens = nltk.RegexpTokenizer(\"[\\w']+\").tokenize(text)\n",
    "    tokens = nltk.pos_tag(tokens)\n",
    "    tokens = [nltk.stem.WordNetLemmatizer().lemmatize(word, get_wordnet_tag(tag)) for word, tag in tokens]\n",
    "    # tokens = [word for word in tokens if word not in nltk_sw]\n",
    "    return tokens\n",
    "\n",
    "def get_corpus(docs):\n",
    "    return docs.apply(get_tokens)\n",
    "\n",
    "# docs must be a list of lists of words\n",
    "def get_stopwords(corpus, tfidf=False, threshold=0.5):\n",
    "    words = {}\n",
    "    for i, doc in enumerate(corpus):\n",
    "        for word in doc:\n",
    "            words[word] = words.get(word, {})\n",
    "            words[word][i] = (words[word].get(i, 0) + 1) if tfidf else 1\n",
    "\n",
    "    for word in words:\n",
    "        if tfidf:\n",
    "            tf = sum(words[word].values())\n",
    "            df = len(words[word].values())\n",
    "            tfidf = tf / df\n",
    "            words[word] = tfidf\n",
    "        else:\n",
    "            words[word] = len(words[word].values()) / len(corpus)\n",
    "    \n",
    "    s = pd.Series(words)\n",
    "    return s[s > threshold].sort_values()\n",
    "\n",
    "def remove_corpus_stopwords(corpus):\n",
    "    sw = get_stopwords(corpus)\n",
    "    return corpus.apply(lambda tokens: [word for word in tokens if word not in sw])"
   ]
  },
  {
   "cell_type": "code",
   "execution_count": null,
   "id": "24045b1d",
   "metadata": {},
   "outputs": [],
   "source": [
    "docs = df[\"ABSTRACT\"]\n",
    "corpus = get_corpus(docs)"
   ]
  },
  {
   "cell_type": "code",
   "execution_count": null,
   "id": "84e7392a",
   "metadata": {},
   "outputs": [],
   "source": [
    "sw = get_stopwords(corpus, threshold=0)\n",
    "sw[-50:]"
   ]
  },
  {
   "cell_type": "code",
   "execution_count": null,
   "id": "28feb82a",
   "metadata": {},
   "outputs": [],
   "source": [
    "corpus = remove_corpus_stopwords(corpus)\n",
    "dictionary = gensim.corpora.Dictionary(corpus)\n",
    "word_freq = [dictionary.doc2bow(word) for word in corpus]"
   ]
  },
  {
   "cell_type": "code",
   "execution_count": null,
   "id": "cdfe02ee",
   "metadata": {},
   "outputs": [],
   "source": [
    "lda_model = gensim.models.ldamodel.LdaModel(corpus=word_freq,\n",
    "                                            id2word=dictionary,\n",
    "                                            num_topics=4,\n",
    "                                            random_state=100,\n",
    "                                            chunksize=100,\n",
    "                                            passes=10,\n",
    "                                            alpha=\"auto\",\n",
    "                                            per_word_topics=True)\n",
    "\n",
    "[print(row[0], '\\n', row[1], '\\n') for row in lda_model.print_topics(num_words=20)]"
   ]
  }
 ],
 "metadata": {
  "kernelspec": {
   "display_name": "Python 3 (ipykernel)",
   "language": "python",
   "name": "python3"
  },
  "language_info": {
   "codemirror_mode": {
    "name": "ipython",
    "version": 3
   },
   "file_extension": ".py",
   "mimetype": "text/x-python",
   "name": "python",
   "nbconvert_exporter": "python",
   "pygments_lexer": "ipython3",
   "version": "3.10.0"
  }
 },
 "nbformat": 4,
 "nbformat_minor": 5
}
